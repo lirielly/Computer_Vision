{
 "cells": [
  {
   "cell_type": "code",
   "execution_count": 2,
   "id": "98957f6a",
   "metadata": {},
   "outputs": [],
   "source": [
    "import glob, os\n",
    "\n",
    "current_dir = 'C:/Users/01549098/Downloads/UP - Master in Data Science/Visão Computacional/Trabalho_VC/Train/'\n",
    "\n",
    "# Percentage of images to be used for the test set\n",
    "percentage_test = 20;\n",
    "\n",
    "# Create and/or truncate train.txt and test.txt\n",
    "file_train = open('train.txt', 'w')\n",
    "file_valid = open('valid.txt', 'w')\n",
    "\n",
    "# Populate train.txt and test.txt\n",
    "counter = 1\n",
    "index_test = round(100 / percentage_test)\n",
    "for pathAndFilename in glob.iglob(os.path.join(current_dir, \"*.jpg\")):\n",
    "    title, ext = os.path.splitext(os.path.basename(pathAndFilename))\n",
    "\n",
    "    if counter == index_test:\n",
    "        counter = 1\n",
    "        file_valid.write(\"data/obj\" + \"/\" + title + '.jpg' + \"\\n\")\n",
    "    else:\n",
    "        file_train.write(\"data/obj\" + \"/\" + title + '.jpg' + \"\\n\")\n",
    "        counter = counter + 1"
   ]
  },
  {
   "cell_type": "code",
   "execution_count": null,
   "id": "5f718402",
   "metadata": {},
   "outputs": [],
   "source": []
  }
 ],
 "metadata": {
  "kernelspec": {
   "display_name": "Python 3 (ipykernel)",
   "language": "python",
   "name": "python3"
  },
  "language_info": {
   "codemirror_mode": {
    "name": "ipython",
    "version": 3
   },
   "file_extension": ".py",
   "mimetype": "text/x-python",
   "name": "python",
   "nbconvert_exporter": "python",
   "pygments_lexer": "ipython3",
   "version": "3.9.7"
  }
 },
 "nbformat": 4,
 "nbformat_minor": 5
}

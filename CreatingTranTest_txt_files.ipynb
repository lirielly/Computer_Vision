{
 "cells": [
  {
   "cell_type": "code",
   "execution_count": 10,
   "id": "8e7270b2",
   "metadata": {},
   "outputs": [],
   "source": [
    "import glob, os\n",
    "\n",
    "# Current directory\n",
    "\n",
    "current_dir = 'C:/Users/01549098/Downloads/UP - Master in Data Science/Visão Computacional/Trabalho_VC/Train'\n",
    "\n",
    "# Create and/or truncate train.txt\n",
    "file_train = open('train.txt', 'w')\n",
    "\n",
    "# Populate train.txt \n",
    "for pathAndFilename in glob.iglob(os.path.join(current_dir, \"*.jpg\")):\n",
    "    title, ext = os.path.splitext(os.path.basename(pathAndFilename))\n",
    "\n",
    "    file_train.write(\"data/obj\" + \"/\" + title + '.jpg' + \"\\n\")        "
   ]
  },
  {
   "cell_type": "code",
   "execution_count": null,
   "id": "47bc0b42",
   "metadata": {},
   "outputs": [],
   "source": [
    "import glob, os\n",
    "\n",
    "# Current directory\n",
    "current_dir = 'C:/Users/01549098/Downloads/UP - Master in Data Science/Visão Computacional/Trabalho_VC/Test'\n",
    "\n",
    "# Create and/or truncate test.txt\n",
    "file_test = open('test.txt', 'w')\n",
    "\n",
    "# Populate test.txt\n",
    "for pathAndFilename in glob.iglob(os.path.join(current_dir, \"*.jpg\")):\n",
    "    title, ext = os.path.splitext(os.path.basename(pathAndFilename))\n",
    "\n",
    "    file_test.write(\"data/obj\" + \"/\" + title + '.jpg' + \"\\n\")      "
   ]
  }
 ],
 "metadata": {
  "kernelspec": {
   "display_name": "Python 3 (ipykernel)",
   "language": "python",
   "name": "python3"
  },
  "language_info": {
   "codemirror_mode": {
    "name": "ipython",
    "version": 3
   },
   "file_extension": ".py",
   "mimetype": "text/x-python",
   "name": "python",
   "nbconvert_exporter": "python",
   "pygments_lexer": "ipython3",
   "version": "3.9.7"
  }
 },
 "nbformat": 4,
 "nbformat_minor": 5
}
